{
 "cells": [
  {
   "cell_type": "markdown",
   "id": "05cbc11a",
   "metadata": {},
   "source": [
    "# Deep Learning Model for Armenian Car Prices\n",
    "\n",
    "This notebook demonstrates how to build a deep learning model using TensorFlow and Keras to predict car prices based on various features such as car name, year, region, fuel type, and mileage. The dataset used is the cleaned Armenian car prices dataset.\n"
   ]
  },
  {
   "cell_type": "code",
   "execution_count": null,
   "id": "d047bdd1",
   "metadata": {},
   "outputs": [],
   "source": [
    "import pandas as pd\n",
    "from sklearn.model_selection import train_test_split\n",
    "from sklearn.preprocessing import OneHotEncoder, StandardScaler\n",
    "from sklearn.compose import ColumnTransformer\n",
    "from tensorflow.keras import Sequential\n",
    "from tensorflow.keras.layers import Dense"
   ]
  },
  {
   "cell_type": "markdown",
   "id": "91c76730",
   "metadata": {},
   "source": [
    "## Load Data\n",
    "\n",
    "We begin by loading the dataset and preprocessing it.\n"
   ]
  },
  {
   "cell_type": "code",
   "execution_count": null,
   "id": "c2b8f735",
   "metadata": {},
   "outputs": [],
   "source": [
    "# Load data\n",
    "df = pd.read_csv('path_to_your/cleaned_armenian_car_prices.csv')\n",
    "\n",
    "# Preprocessing\n",
    "df['Year'] = pd.to_datetime(df['Year']).dt.year\n",
    "\n",
    "X = df.drop(columns=['Price'])\n",
    "y = df['Price']\n",
    "\n",
    "categorical_features = ['Car Name', 'Region', 'FuelType']\n",
    "numerical_features = ['Year', 'Mileage']\n",
    "\n",
    "preprocessor = ColumnTransformer(\n",
    "    transformers=[\n",
    "        ('num', StandardScaler(), numerical_features),\n",
    "        ('cat', OneHotEncoder(handle_unknown='ignore'), categorical_features)])\n",
    "\n",
    "X_train, X_test, y_train, y_test = train_test_split(X, y, test_size=0.2, random_state=42)\n",
    "\n",
    "X_train = preprocessor.fit_transform(X_train)\n",
    "X_test = preprocessor.transform(X_test)"
   ]
  },
  {
   "cell_type": "markdown",
   "id": "ad315ee0",
   "metadata": {},
   "source": [
    "## Build the Model\n",
    "\n",
    "Now, we build a deep learning model using Keras. The model consists of three hidden layers with 128, 64, and 32 neurons respectively, and uses ReLU activation. The output layer has 1 neuron as we are performing a regression task to predict the price.\n"
   ]
  },
  {
   "cell_type": "code",
   "execution_count": null,
   "id": "fa82a4d9",
   "metadata": {},
   "outputs": [],
   "source": [
    "# Build the model\n",
    "model = Sequential([\n",
    "    Dense(128, activation='relu', input_shape=(X_train.shape[1],)),\n",
    "    Dense(64, activation='relu'),\n",
    "    Dense(32, activation='relu'),\n",
    "    Dense(1)  # Output layer for regression\n",
    "])\n",
    "\n",
    "# Compile the model\n",
    "model.compile(optimizer='adam', loss='mean_squared_error', metrics=['mae'])"
   ]
  },
  {
   "cell_type": "markdown",
   "id": "4abefb42",
   "metadata": {},
   "source": [
    "## Train the Model\n",
    "\n",
    "We will now train the model on the training data. We use a validation split of 20% and train for 50 epochs with a batch size of 32.\n"
   ]
  },
  {
   "cell_type": "code",
   "execution_count": null,
   "id": "5f3f8e28",
   "metadata": {},
   "outputs": [],
   "source": [
    "# Train the model\n",
    "history = model.fit(X_train, y_train, validation_split=0.2, epochs=50, batch_size=32, verbose=1)"
   ]
  },
  {
   "cell_type": "markdown",
   "id": "a5db0c85",
   "metadata": {},
   "source": [
    "## Evaluate the Model\n",
    "\n",
    "Finally, we evaluate the model on the test data and print out the loss and mean absolute error (MAE).\n"
   ]
  },
  {
   "cell_type": "code",
   "execution_count": null,
   "id": "13251a45",
   "metadata": {},
   "outputs": [],
   "source": [
    "# Evaluate the model\n",
    "loss, mae = model.evaluate(X_test, y_test, verbose=0)\n",
    "print(f'Model Loss: {loss}, MAE: {mae}')"
   ]
  }
 ],
 "metadata": {},
 "nbformat": 4,
 "nbformat_minor": 5
}
